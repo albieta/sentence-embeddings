{
 "cells": [
  {
   "attachments": {},
   "cell_type": "markdown",
   "metadata": {},
   "source": [
    "# Elements advanced search with Sentence Embeddings\n",
    "\n",
    "## Overview\n",
    "\n",
    "This project offers a framework for analyzing and visualizing a collection of elements using Sentence Embeddings. It includes functionalities for generating embeddings, visualizing them using t-SNE, and interactively finding the closest element based on user input.\n",
    "\n",
    "## Sentence Embeddings\n",
    "\n",
    "Sentence embedding models aim to capture the semantic essence of a sentence by representing it as a fixed-length vector. For this, the SentenceTransformers library was used ([see documentation](https://www.sbert.net/))\n",
    "\n",
    "<img src=\"media/embeddings.png\" width=\"750\">\n",
    "\n",
    "The result is a multidimensional vector describing a sentance:\n",
    "\n",
    "<img src=\"media/sentenceembedding.png\" width=\"300\">\n",
    "\n",
    "## t-SNE\n",
    "t-SNE (t-distributed Stochastic Neighbor Embedding) is an unsupervised non-linear dimensionality reduction technique for data exploration and visualizing high-dimensional data. Non-linear dimensionality reduction means that the algorithm allows us to separate data that cannot be separated by a straight line. This has been used for plotting the embedded elements in a 2D plot.\n",
    "\n",
    "## Project Structure\n",
    "\n",
    "- `embeddings_generator.ipynb`: File including a function which given an element, it summarizes its description using a summarization transformer and a function which generates the embeddings for a given data.\n",
    "- `graphical_representation.ipynb`: File which graphically represents the embeddings in a 2D-plot by reducing the vector components to 2.\n",
    "- `ask.ipynb`: File which allows to interactively find the closest element based on user input.\n",
    "\n",
    "## Data Format\n",
    "\n",
    "A \".json\" file of data elements must be provided and stored in the folder \"/datafile\". It's format must follow the following structure:\n",
    "\n",
    "```\n",
    "[{\n",
    "    'id': 'id of the element',\n",
    "    'name': 'name of the element',\n",
    "    'description': 'data describing the element'\n",
    "},\n",
    "{\n",
    "    'id': 'id of the element',\n",
    "    'name': 'name of the element',\n",
    "    'description': 'data describing the element'\n",
    "}]\n",
    "```\n",
    "\n",
    "## Initialize project\n",
    "\n",
    "Create a conda environment: ``conda create -n (env_name)``\n",
    "\n",
    "Activate the environment: ``conda activate (env_name)``\n",
    "\n",
    "Start the jupyter lab: ``jupyter lab``"
   ]
  }
 ],
 "metadata": {
  "kernelspec": {
   "display_name": "Python 3 (ipykernel)",
   "language": "python",
   "name": "python3"
  },
  "language_info": {
   "codemirror_mode": {
    "name": "ipython",
    "version": 3
   },
   "file_extension": ".py",
   "mimetype": "text/x-python",
   "name": "python",
   "nbconvert_exporter": "python",
   "pygments_lexer": "ipython3",
   "version": "3.10.12"
  }
 },
 "nbformat": 4,
 "nbformat_minor": 4
}
