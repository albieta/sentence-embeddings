{
 "cells": [
  {
   "cell_type": "code",
   "execution_count": 14,
   "id": "36908cdf-ea33-4e74-822d-94ed2fb49747",
   "metadata": {},
   "outputs": [],
   "source": [
    "from sentence_transformers import SentenceTransformer\n",
    "from sklearn.metrics.pairwise import cosine_similarity\n",
    "import os\n",
    "import numpy as np\n",
    "import pickle"
   ]
  },
  {
   "attachments": {},
   "cell_type": "markdown",
   "id": "125f1877-23fa-4e09-ac0b-af06ff8ef061",
   "metadata": {},
   "source": [
    "In order to find similarity between a user input request and one of the embedded elements, we must do an embedding of the user imput and compare both generated vectors. This can be done with `cosine similarity` from [sklearn](https://scikit-learn.org/stable/modules/generated/sklearn.metrics.pairwise.cosine_similarity.html). \n",
    "\n",
    "<img src=\"media/cosine.png\" width=\"450\">\n",
    "\n",
    "Similarity values can range from -1 and 1. The value -1 means that the vectors are opposite, 0 represents orthogonal vectors, and value 1 signifies similar vectors.\n",
    "\n",
    "The following function `find_closest_sentence` finds the highest similarity embedding and returns the sentence information."
   ]
  },
  {
   "cell_type": "code",
   "execution_count": 15,
   "id": "6e0edfa4-e6c1-4d2e-84e4-1ef163b67a10",
   "metadata": {},
   "outputs": [],
   "source": [
    "def find_closest_sentence(input_sentence, sentences, embeddings):\n",
    "    input_embedding = model.encode([input_sentence])[0]\n",
    "    similarities = cosine_similarity([input_embedding], embeddings)[0]\n",
    "    closest_index = similarities.argmax()\n",
    "    closest_sentence = sentences[closest_index]\n",
    "    return closest_sentence"
   ]
  },
  {
   "cell_type": "code",
   "execution_count": null,
   "id": "a62415f9-5c34-450c-b60b-4c146cb72aa6",
   "metadata": {},
   "outputs": [],
   "source": [
    "model = SentenceTransformer('paraphrase-multilingual-MiniLM-L12-v2')\n",
    "\n",
    "embeddings_file = 'embeddings/embeddings.npy'\n",
    "sentences_file = 'embeddings/sentences.npy'\n",
    "\n",
    "if os.path.exists(embeddings_file) and os.path.exists(sentences_file):\n",
    "    embeddings = np.load(embeddings_file)\n",
    "    with open(sentences_file, 'rb') as f:\n",
    "        sentences = pickle.load(f)\n",
    "    \n",
    "    while True:\n",
    "        user_input = input(\"You: \")\n",
    "    \n",
    "        if user_input.lower() == 'exit':\n",
    "            break\n",
    "    \n",
    "        closest_sentence = find_closest_sentence(user_input, sentences, embeddings)\n",
    "    \n",
    "        print(f\"Here is the element that may meet your requirements: \\n{closest_sentence}\")\n",
    "else:\n",
    "    print(\"The embeddings have not been generated, execute the embeddings_generator notebook.\")"
   ]
  }
 ],
 "metadata": {
  "kernelspec": {
   "display_name": "Python 3 (ipykernel)",
   "language": "python",
   "name": "python3"
  },
  "language_info": {
   "codemirror_mode": {
    "name": "ipython",
    "version": 3
   },
   "file_extension": ".py",
   "mimetype": "text/x-python",
   "name": "python",
   "nbconvert_exporter": "python",
   "pygments_lexer": "ipython3",
   "version": "3.10.12"
  }
 },
 "nbformat": 4,
 "nbformat_minor": 5
}
