{
 "cells": [
  {
   "cell_type": "code",
   "execution_count": 25,
   "id": "bb0d4091-eae7-4482-86c1-f4ae75a0b621",
   "metadata": {},
   "outputs": [],
   "source": [
    "from transformers import pipeline\n",
    "from sentence_transformers import SentenceTransformer\n",
    "import os\n",
    "import pickle\n",
    "import numpy as np\n",
    "import json\n",
    "os.environ[\"LOKY_MAX_CPU_COUNT\"] = \"4\" "
   ]
  },
  {
   "cell_type": "code",
   "execution_count": 26,
   "id": "2163fa68-7795-4fdb-a4d3-35e4c0ce6ea9",
   "metadata": {},
   "outputs": [],
   "source": [
    "current_directory = os.getcwd()\n",
    "\n",
    "datafile_json = 'datafile/data.json'\n",
    "\n",
    "datafile_json_path = os.path.join(current_directory, datafile_json)"
   ]
  },
  {
   "cell_type": "markdown",
   "id": "221149c1-ca36-494c-a216-4429c63f9d83",
   "metadata": {},
   "source": [
    "There is certain limit of tokens which can be embedded with the sentence transformer. This is why the information has to be summarized. This has been achieved with a summarization model from the transformers library. The following function `summarize_elements` is encharged of sumarizing the elments and returning the sentences for further embedding. "
   ]
  },
  {
   "cell_type": "code",
   "execution_count": 27,
   "id": "87ca0a2c-937e-4a8b-8f98-b52ce1b59863",
   "metadata": {},
   "outputs": [],
   "source": [
    "summarizer = pipeline(\"summarization\", model=\"facebook/bart-large-cnn\")\n",
    "\n",
    "def summarize_elements(elements):\n",
    "    summarized_elements = []\n",
    "\n",
    "    for element in elements:\n",
    "        name = element.get('name', '')\n",
    "        description = element.get('description', '')\n",
    "        combined_text = f\"{name} {description}\"\n",
    "        \n",
    "        token_length = len(summarizer.tokenizer(combined_text)['input_ids'])\n",
    "        \n",
    "        if token_length > 128:\n",
    "            remaining_length = 128 - len(summarizer.tokenizer(name)['input_ids'])\n",
    "            summarized_part = summarizer(description, max_length=remaining_length, min_length=1)\n",
    "            summarized_part = summarized_part[0].get('summary_text', '')\n",
    "            summarized_element = f\"{name} {summarized_part}\"\n",
    "        else:\n",
    "            summarized_element = combined_text\n",
    "        \n",
    "        summarized_elements.append(summarized_element)\n",
    "\n",
    "    return summarized_elements"
   ]
  },
  {
   "cell_type": "code",
   "execution_count": 29,
   "id": "100369d4-7165-4eab-92d5-ef5df3a6e7a9",
   "metadata": {},
   "outputs": [
    {
     "name": "stdout",
     "output_type": "stream",
     "text": [
      "The embeddings have already been generated. Delete the files if you wish to generate them again.\n"
     ]
    }
   ],
   "source": [
    "embeddings_file = 'embeddings/embeddings.npy'\n",
    "sentences_file = 'embeddings/sentences.npy'\n",
    "\n",
    "if os.path.exists(embeddings_file) and os.path.exists(sentences_file):\n",
    "    print(\"The embeddings have already been generated. Delete the files if you wish to generate them again.\")\n",
    "else:\n",
    "    model = SentenceTransformer('paraphrase-multilingual-MiniLM-L12-v2')\n",
    "\n",
    "    with open(datafile_json_path, 'r', encoding='utf-8') as file:\n",
    "        elements = json.load(file)\n",
    "    sentences = summarize_elements(elements)\n",
    "    print(\"Success!\")\n",
    "    embeddings = model.encode(sentences)\n",
    "\n",
    "    with open(sentences_file, 'wb') as f:\n",
    "        pickle.dump(elements, f)\n",
    "\n",
    "    np.save(embeddings_file, embeddings)"
   ]
  }
 ],
 "metadata": {
  "kernelspec": {
   "display_name": "Python 3 (ipykernel)",
   "language": "python",
   "name": "python3"
  },
  "language_info": {
   "codemirror_mode": {
    "name": "ipython",
    "version": 3
   },
   "file_extension": ".py",
   "mimetype": "text/x-python",
   "name": "python",
   "nbconvert_exporter": "python",
   "pygments_lexer": "ipython3",
   "version": "3.10.12"
  }
 },
 "nbformat": 4,
 "nbformat_minor": 5
}
